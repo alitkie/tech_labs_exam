{
 "cells": [
  {
   "cell_type": "markdown",
   "metadata": {},
   "source": [
    "<img src=\"TechLabs.png\">"
   ]
  },
  {
   "cell_type": "markdown",
   "metadata": {},
   "source": [
    "<h2>Please enter your full name here: Andrew Litkie</h2>"
   ]
  },
  {
   "cell_type": "markdown",
   "metadata": {},
   "source": [
    "\n",
    "<p> This exam will test your knowledge in Artificial Intelligence. </p>\n",
    "<p> We will test the following: </p>\n",
    "\n",
    "- Logistic Regressions\n",
    "- Neural Networks\n",
    "- Monte Carlo Simulation"
   ]
  },
  {
   "cell_type": "markdown",
   "metadata": {},
   "source": [
    "# Question 1:\n",
    "Below is the code to import a standard dataset with breast cancer.\n",
    "When you run the cell, you will have it stored as the object \"data\",\n",
    "and the description of the dataset is printed out for you.\n",
    "\n",
    "### Your task is to create two models for classifying the diagnosis, and compare the accuracy metrics for the two:\n",
    "### 1. a) Logistic Regression: \n",
    "\"sklearn.linear_model\" offers good logit classifiers. Because the dataset is fairly small (~500 rows), we suggest that you use the \"liblinear\" solver for fitting the logit classifier.\n",
    "\n",
    "Split the dataset into a test and training (30% test / 70% training) dataset and train the model on the training dataset. Then, classify the test dataset, and compute the accuracy, which you can print as an output.\n",
    "\n",
    "P.S.: We do not expect you to regularize for type 1 or type 2 errors. Your goal is to build models that classify well the diagnosis. Also, we do not expect you to spend hours on feature engineering and/or other things that may or may not improve testing accuracy. A good answer shall just contain a sensible model and the testing accuracy."
   ]
  },
  {
   "cell_type": "code",
   "execution_count": 1,
   "metadata": {},
   "outputs": [
    {
     "name": "stdout",
     "output_type": "stream",
     "text": [
      "(569, 30)\n"
     ]
    }
   ],
   "source": [
    "# Given\n",
    "import numpy as np\n",
    "\n",
    "from sklearn import datasets\n",
    "data = datasets.load_breast_cancer()\n",
    "print(np.shape(data.data))"
   ]
  },
  {
   "cell_type": "code",
   "execution_count": 2,
   "metadata": {},
   "outputs": [
    {
     "name": "stdout",
     "output_type": "stream",
     "text": [
      ".. _breast_cancer_dataset:\n",
      "\n",
      "Breast cancer wisconsin (diagnostic) dataset\n",
      "--------------------------------------------\n",
      "\n",
      "**Data Set Characteristics:**\n",
      "\n",
      "    :Number of Instances: 569\n",
      "\n",
      "    :Number of Attributes: 30 numeric, predictive attributes and the class\n",
      "\n",
      "    :Attribute Information:\n",
      "        - radius (mean of distances from center to points on the perimeter)\n",
      "        - texture (standard deviation of gray-scale values)\n",
      "        - perimeter\n",
      "        - area\n",
      "        - smoothness (local variation in radius lengths)\n",
      "        - compactness (perimeter^2 / area - 1.0)\n",
      "        - concavity (severity of concave portions of the contour)\n",
      "        - concave points (number of concave portions of the contour)\n",
      "        - symmetry \n",
      "        - fractal dimension (\"coastline approximation\" - 1)\n",
      "\n",
      "        The mean, standard error, and \"worst\" or largest (mean of the three\n",
      "        largest values) of these features were computed for each image,\n",
      "        resulting in 30 features.  For instance, field 3 is Mean Radius, field\n",
      "        13 is Radius SE, field 23 is Worst Radius.\n",
      "\n",
      "        - class:\n",
      "                - WDBC-Malignant\n",
      "                - WDBC-Benign\n",
      "\n",
      "    :Summary Statistics:\n",
      "\n",
      "    ===================================== ====== ======\n",
      "                                           Min    Max\n",
      "    ===================================== ====== ======\n",
      "    radius (mean):                        6.981  28.11\n",
      "    texture (mean):                       9.71   39.28\n",
      "    perimeter (mean):                     43.79  188.5\n",
      "    area (mean):                          143.5  2501.0\n",
      "    smoothness (mean):                    0.053  0.163\n",
      "    compactness (mean):                   0.019  0.345\n",
      "    concavity (mean):                     0.0    0.427\n",
      "    concave points (mean):                0.0    0.201\n",
      "    symmetry (mean):                      0.106  0.304\n",
      "    fractal dimension (mean):             0.05   0.097\n",
      "    radius (standard error):              0.112  2.873\n",
      "    texture (standard error):             0.36   4.885\n",
      "    perimeter (standard error):           0.757  21.98\n",
      "    area (standard error):                6.802  542.2\n",
      "    smoothness (standard error):          0.002  0.031\n",
      "    compactness (standard error):         0.002  0.135\n",
      "    concavity (standard error):           0.0    0.396\n",
      "    concave points (standard error):      0.0    0.053\n",
      "    symmetry (standard error):            0.008  0.079\n",
      "    fractal dimension (standard error):   0.001  0.03\n",
      "    radius (worst):                       7.93   36.04\n",
      "    texture (worst):                      12.02  49.54\n",
      "    perimeter (worst):                    50.41  251.2\n",
      "    area (worst):                         185.2  4254.0\n",
      "    smoothness (worst):                   0.071  0.223\n",
      "    compactness (worst):                  0.027  1.058\n",
      "    concavity (worst):                    0.0    1.252\n",
      "    concave points (worst):               0.0    0.291\n",
      "    symmetry (worst):                     0.156  0.664\n",
      "    fractal dimension (worst):            0.055  0.208\n",
      "    ===================================== ====== ======\n",
      "\n",
      "    :Missing Attribute Values: None\n",
      "\n",
      "    :Class Distribution: 212 - Malignant, 357 - Benign\n",
      "\n",
      "    :Creator:  Dr. William H. Wolberg, W. Nick Street, Olvi L. Mangasarian\n",
      "\n",
      "    :Donor: Nick Street\n",
      "\n",
      "    :Date: November, 1995\n",
      "\n",
      "This is a copy of UCI ML Breast Cancer Wisconsin (Diagnostic) datasets.\n",
      "https://goo.gl/U2Uwz2\n",
      "\n",
      "Features are computed from a digitized image of a fine needle\n",
      "aspirate (FNA) of a breast mass.  They describe\n",
      "characteristics of the cell nuclei present in the image.\n",
      "\n",
      "Separating plane described above was obtained using\n",
      "Multisurface Method-Tree (MSM-T) [K. P. Bennett, \"Decision Tree\n",
      "Construction Via Linear Programming.\" Proceedings of the 4th\n",
      "Midwest Artificial Intelligence and Cognitive Science Society,\n",
      "pp. 97-101, 1992], a classification method which uses linear\n",
      "programming to construct a decision tree.  Relevant features\n",
      "were selected using an exhaustive search in the space of 1-4\n",
      "features and 1-3 separating planes.\n",
      "\n",
      "The actual linear program used to obtain the separating plane\n",
      "in the 3-dimensional space is that described in:\n",
      "[K. P. Bennett and O. L. Mangasarian: \"Robust Linear\n",
      "Programming Discrimination of Two Linearly Inseparable Sets\",\n",
      "Optimization Methods and Software 1, 1992, 23-34].\n",
      "\n",
      "This database is also available through the UW CS ftp server:\n",
      "\n",
      "ftp ftp.cs.wisc.edu\n",
      "cd math-prog/cpo-dataset/machine-learn/WDBC/\n",
      "\n",
      ".. topic:: References\n",
      "\n",
      "   - W.N. Street, W.H. Wolberg and O.L. Mangasarian. Nuclear feature extraction \n",
      "     for breast tumor diagnosis. IS&T/SPIE 1993 International Symposium on \n",
      "     Electronic Imaging: Science and Technology, volume 1905, pages 861-870,\n",
      "     San Jose, CA, 1993.\n",
      "   - O.L. Mangasarian, W.N. Street and W.H. Wolberg. Breast cancer diagnosis and \n",
      "     prognosis via linear programming. Operations Research, 43(4), pages 570-577, \n",
      "     July-August 1995.\n",
      "   - W.H. Wolberg, W.N. Street, and O.L. Mangasarian. Machine learning techniques\n",
      "     to diagnose breast cancer from fine-needle aspirates. Cancer Letters 77 (1994) \n",
      "     163-171.\n"
     ]
    }
   ],
   "source": [
    "# Describing data\n",
    "print(data.DESCR)"
   ]
  },
  {
   "cell_type": "code",
   "execution_count": 3,
   "metadata": {},
   "outputs": [],
   "source": [
    "# Necessary Imports\n",
    "\n",
    "from scipy.stats import t\n",
    "from scipy.stats import norm\n",
    "import matplotlib.pyplot as plt\n",
    "import pandas as pd\n",
    "from sklearn.linear_model import LogisticRegression\n",
    "from sklearn.metrics import accuracy_score\n",
    "from sklearn.model_selection import train_test_split\n",
    "from sklearn import datasets"
   ]
  },
  {
   "cell_type": "code",
   "execution_count": 4,
   "metadata": {},
   "outputs": [],
   "source": [
    "# Loading the dataset onto data\n",
    "data = datasets.load_breast_cancer()\n",
    "\n",
    "# Defining X and Y\n",
    "X = data.data\n",
    "y = data.target\n",
    "\n",
    "# Splitting X & Y into train and test sets using 70% and 30%\n",
    "X_train, X_test, y_train, y_test = train_test_split(X, y, test_size=0.3, random_state=0)"
   ]
  },
  {
   "cell_type": "code",
   "execution_count": 5,
   "metadata": {},
   "outputs": [],
   "source": [
    "# Using solver to fit model\n",
    "logit = LogisticRegression(solver = \"liblinear\", random_state=0).fit(X_train,y_train)\n",
    "y_pred = logit.predict(X_test)\n",
    "acc = accuracy_score(y_test,y_pred)"
   ]
  },
  {
   "cell_type": "markdown",
   "metadata": {},
   "source": [
    "# Print the logit accuracy below:"
   ]
  },
  {
   "cell_type": "code",
   "execution_count": 6,
   "metadata": {},
   "outputs": [
    {
     "name": "stdout",
     "output_type": "stream",
     "text": [
      "\n",
      "testing set accuracy with logit is: 0.9649122807017544\n"
     ]
    }
   ],
   "source": [
    "# Print the result\n",
    "print(f\"\\ntesting set accuracy with logit is: {acc}\")"
   ]
  },
  {
   "cell_type": "markdown",
   "metadata": {},
   "source": [
    "### 1. b) Feedforward Neural Network:\n",
    "So far, so good. Let's see how a feedforward neural network does for the same task.\n",
    "\n",
    "Take the same train/test split as in a), and construct the following neural network, which you fit to the data:"
   ]
  },
  {
   "cell_type": "code",
   "execution_count": 17,
   "metadata": {
    "jupyter": {
     "source_hidden": true
    }
   },
   "outputs": [
    {
     "data": {
      "text/plain": [
       "['Model: \"sequential_2\"',\n",
       " '_________________________________________________________________',\n",
       " 'Layer (type)                 Output Shape              Param #   ',\n",
       " '=================================================================',\n",
       " 'dense_5 (Dense)              (None, 30)                930       ',\n",
       " '_________________________________________________________________',\n",
       " 'dense_6 (Dense)              (None, 50)                1550      ',\n",
       " '_________________________________________________________________',\n",
       " 'dense_7 (Dense)              (None, 30)                1530      ',\n",
       " '_________________________________________________________________',\n",
       " 'dense_8 (Dense)              (None, 1)                 31        ',\n",
       " '=================================================================',\n",
       " 'Total params: 4,041',\n",
       " 'Trainable params: 4,041',\n",
       " 'Non-trainable params: 0',\n",
       " '_________________________________________________________________']"
      ]
     },
     "execution_count": 17,
     "metadata": {},
     "output_type": "execute_result"
    }
   ],
   "source": [
    "# new task with pickle\n",
    "import pickle\n",
    "import matplotlib.pyplot as plt\n",
    "import statistics as st\n",
    "from scipy.stats import t\n",
    "\n",
    "pickle.loads(b'\\x80\\x03]q\\x00(X\\x15\\x00\\x00\\x00Model: \"sequential_2\"q\\x01XA\\x00\\x00\\x00_________________________________________________________________q\\x02XA\\x00\\x00\\x00Layer (type)                 Output Shape              Param #   q\\x03XA\\x00\\x00\\x00=================================================================q\\x04XA\\x00\\x00\\x00dense_5 (Dense)              (None, 30)                930       q\\x05XA\\x00\\x00\\x00_________________________________________________________________q\\x06XA\\x00\\x00\\x00dense_6 (Dense)              (None, 50)                1550      q\\x07XA\\x00\\x00\\x00_________________________________________________________________q\\x08XA\\x00\\x00\\x00dense_7 (Dense)              (None, 30)                1530      q\\tXA\\x00\\x00\\x00_________________________________________________________________q\\nXA\\x00\\x00\\x00dense_8 (Dense)              (None, 1)                 31        q\\x0bXA\\x00\\x00\\x00=================================================================q\\x0cX\\x13\\x00\\x00\\x00Total params: 4,041q\\rX\\x17\\x00\\x00\\x00Trainable params: 4,041q\\x0eX\\x17\\x00\\x00\\x00Non-trainable params: 0q\\x0fXA\\x00\\x00\\x00_________________________________________________________________q\\x10e.')"
   ]
  },
  {
   "cell_type": "code",
   "execution_count": 8,
   "metadata": {},
   "outputs": [
    {
     "name": "stderr",
     "output_type": "stream",
     "text": [
      "Using TensorFlow backend.\n"
     ]
    }
   ],
   "source": [
    "# installing and importing keras\n",
    "# conda install keras\n",
    "\n",
    "from keras import models, layers"
   ]
  },
  {
   "cell_type": "markdown",
   "metadata": {},
   "source": [
    "### You can use the library keras to contruct the ANN. Since we are dealing with a classification problem, we recommend binary_crossentropy as a loss function.\n",
    "Choose a reasonable batch size and epoch count and train the model.\n",
    "### Here again, print the testing dataset accuracy:"
   ]
  },
  {
   "cell_type": "code",
   "execution_count": null,
   "metadata": {},
   "outputs": [],
   "source": [
    "net = models.Sequential()\n",
    "\n",
    "# Adding the layers abd defining dense\n",
    "net.add(layers.Dense(30, activation='relu', input_shape=(len(X[0]),))) \n",
    "net.add(layers.Dense(50, activation='relu')) \n",
    "net.add(layers.Dense(30, activation='relu')) \n",
    "net.add(layers.Dense(1, activation='sigmoid'))\n",
    "\n",
    "# Using nadam optimiser to compile \n",
    "net.compile(optimizer='nadam',loss='binary_crossentropy',metrics=['accuracy'])\n",
    "net.fit(X_train, y_train, epochs=25, batch_size=32,verbose=False)\n",
    "test_loss, ANNacc = net.evaluate(X_test, y_test)"
   ]
  },
  {
   "cell_type": "code",
   "execution_count": 14,
   "metadata": {},
   "outputs": [
    {
     "name": "stdout",
     "output_type": "stream",
     "text": [
      "testing set accuracy with ANN is: 0.6315789484141165\n"
     ]
    }
   ],
   "source": [
    "# Printing the results\n",
    "print(f\"testing set accuracy with ANN is: {ANNacc}\")"
   ]
  },
  {
   "cell_type": "markdown",
   "metadata": {},
   "source": [
    "### 1. c) Compare the performance of the neural net with the logit. Which one seems better at the job and why might that be?\n",
    "Please also comment on which model you would choose to implement in a case like this and why."
   ]
  },
  {
   "cell_type": "code",
   "execution_count": 19,
   "metadata": {},
   "outputs": [],
   "source": [
    "# It is clear that the neural net performed much worse than the logit: \n",
    "# Logit = 96.5%\n",
    "# ANNacc = 63.2% \n",
    "# The reason for this is that the underlying data being combined with the different solution attempts\n",
    "# produces results that vary in accuracy\n",
    "# The fact that the data set is very large is a cause for the differences in accuracy"
   ]
  },
  {
   "cell_type": "markdown",
   "metadata": {},
   "source": [
    "# Question 2:\n",
    "### Your coding skills have gained you a job as an options trader at a successful hedge fund! Congratulations!!\n",
    "\n",
    "At the first day, your boss comes to you and asks you, whether he should buy a _call option_* with a certain set of characteristics for 1€.\n",
    "\n",
    "    *A call option gives you the right (but not obligation) to buy a share for a certain strike price. In other words, if the stock price is higher than the strike price, you get the difference, otherwise, you get 0: \n",
    "    \n",
    "    callpayoff = max(stockprice - strikeprice, 0) \n",
    "\n",
    "To price the option, you shall build a monte-carlo simulator which generatates _1 000 000_ random walks, each representing the stock price in one year, which is when the option can be expired. By taking the average of these payouts, you will get the expected payout at expiry!\n",
    "\n",
    "Luckily, your boss has also given you the characteristics and hints for how the stock price moves: \n",
    "\n",
    "The stock price follows a student T distribution with 3 degrees of freedom (the rvs function within the t class from scipy.stats package is a great tool for creating random walks with this distribution: https://docs.scipy.org/doc/scipy/reference/generated/scipy.stats.t.html  ctrl+f \"rvs\") \n",
    "\n",
    "- The stock price today: 69\n",
    "- Stock returns follow student T distribution with 3 degrees of freedom\n",
    "- drift of 10% per year \n",
    "- volatility of 20%\n",
    "- strike price of the option is 96\n",
    "\n",
    "### Build a function that returns the price of the call option, and shows your boss what payout he can expect from the option in order to explain him, whether he should buy it or not.\n",
    "\n",
    "    P.S.: If you run into trouble on your way, you can always ask for tips from your boss and since he is a nice guy, he will also give a good grade for all attempts!"
   ]
  },
  {
   "cell_type": "code",
   "execution_count": 20,
   "metadata": {},
   "outputs": [],
   "source": [
    "# Importing the necessary \n",
    "import matplotlib.pyplot as plt\n",
    "import statistics as st\n",
    "from scipy.stats import t"
   ]
  },
  {
   "cell_type": "code",
   "execution_count": 21,
   "metadata": {},
   "outputs": [],
   "source": [
    "# Starting by using random walk \n",
    "\n",
    "def random_walk(start_price, strike):\n",
    "    df = 3\n",
    "    vola = 0.2\n",
    "    n = 1000000\n",
    "    \n",
    "    # using the given characterisitcs\n",
    "    r = t.rvs(df, size = n, loc = start_price, scale = (vola * start_price))\n",
    "    \n",
    "    # plotting the histo\n",
    "    plt.hist(r, bins='auto', log = True, histtype = 'step')\n",
    "    plt.show()\n",
    "    return r"
   ]
  },
  {
   "cell_type": "code",
   "execution_count": 22,
   "metadata": {},
   "outputs": [
    {
     "data": {
      "image/png": "[encoded data removed]",
      "text/plain": [
       "<Figure size 432x288 with 1 Axes>"
      ]
     },
     "metadata": {
      "needs_background": "light"
     },
     "output_type": "display_data"
    },
    {
     "name": "stdout",
     "output_type": "stream",
     "text": [
      "Expected Payoff: 2.4934\n"
     ]
    }
   ],
   "source": [
    "# Now using the monte carlo\n",
    "\n",
    "# Drift price, empty list, \n",
    "def monte_carlo(r):\n",
    "    drift = 0.1 \n",
    "    results = []\n",
    "    \n",
    "    # Repeating for random walk\n",
    "    for i in r: \n",
    "        p = max((i * (1 + drift) - strike), 0)     \n",
    "        results.append(p)\n",
    "    return print(f'Expected Payoff: {st.mean(results):.5}')\n",
    "\n",
    "# Running the monte carlo\n",
    "start_price = 69\n",
    "strike = 96\n",
    "monte_carlo(random_walk(start_price, strike))"
   ]
  },
  {
   "cell_type": "code",
   "execution_count": 23,
   "metadata": {},
   "outputs": [
    {
     "data": {
      "text/plain": [
       "'Payoff is almost 250% higher than price, therefore it is a great investment'"
      ]
     },
     "execution_count": 23,
     "metadata": {},
     "output_type": "execute_result"
    }
   ],
   "source": [
    "'Payoff is almost 250% higher than price, therefore it is a great investment'"
   ]
  },
  {
   "cell_type": "markdown",
   "metadata": {},
   "source": [
    "# Good luck!\n",
    "\n",
    "Don't forget: google, github and stack overflow are your best friends!\n"
   ]
  }
 ],
 "metadata": {
  "kernelspec": {
   "display_name": "Python 3",
   "language": "python",
   "name": "python3"
  },
  "language_info": {
   "codemirror_mode": {
    "name": "ipython",
    "version": 3
   },
   "file_extension": ".py",
   "mimetype": "text/x-python",
   "name": "python",
   "nbconvert_exporter": "python",
   "pygments_lexer": "ipython3",
   "version": "3.7.4"
  }
 },
 "nbformat": 4,
 "nbformat_minor": 4
}
